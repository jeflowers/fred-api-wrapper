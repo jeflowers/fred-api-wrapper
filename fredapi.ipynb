{
 "cells": [
  {
   "metadata": {},
   "cell_type": "markdown",
   "source": [
    "Import tools to help communicate with Fred API\n",
    "Requests helps us send messages over the internet\n",
    "Optional lets us say that sometimes a piece of information might not be there."
   ],
   "id": "c6b2874f1eea528"
  },
  {
   "metadata": {
    "ExecuteTime": {
     "end_time": "2024-08-31T09:50:39.446028Z",
     "start_time": "2024-08-31T09:50:37.618530Z"
    }
   },
   "cell_type": "code",
   "source": [
    "from cryptography.hazmat.primitives import hashes\n",
    "from cryptography.hazmat.primitives.asymmetric import padding, rsa\n",
    "from cryptography.exceptions import InvalidSignature\n",
    "from base64 import b64encode, b64decode\n",
    "\n",
    "class FredPyAPI:\n",
    "    def __init__(self, token: Optional[str] = None, token_signature: Optional[str] = None):\n",
    "        self.token = token\n",
    "        self.token_signature = token_signature\n",
    "        self.public_key = None  # This should be set with a method\n",
    "\n",
    "    def set_public_key(self, public_key_pem: str):\n",
    "        from cryptography.hazmat.primitives.serialization import load_pem_public_key\n",
    "        self.public_key = load_pem_public_key(public_key_pem.encode())\n",
    "\n",
    "    def set_token(self, token: str, token_signature: str) -> None:\n",
    "        if self.verify_token(token, token_signature):\n",
    "            self.token = token\n",
    "            self.token_signature = token_signature\n",
    "        else:\n",
    "            raise ValueError(\"Token verification failed\")\n",
    "\n",
    "    def verify_token(self, token: str, signature: str) -> bool:\n",
    "        if not self.public_key:\n",
    "            raise ValueError(\"Public key not set. Use set_public_key method first.\")\n",
    "        \n",
    "        try:\n",
    "            self.public_key.verify(\n",
    "                b64decode(signature),\n",
    "                token.encode(),\n",
    "                padding.PSS(\n",
    "                    mgf=padding.MGF1(hashes.SHA256()),\n",
    "                    salt_length=padding.PSS.MAX_LENGTH\n",
    "                ),\n",
    "                hashes.SHA256()\n",
    "            )\n",
    "            return True\n",
    "        except InvalidSignature:\n",
    "            return False\n",
    "\n",
    "    # ... rest of the class implementation ..."
   ],
   "id": "c4fdca94cac81c37",
   "outputs": [],
   "execution_count": 31
  },
  {
   "metadata": {},
   "cell_type": "code",
   "outputs": [],
   "execution_count": null,
   "source": [
    "# Usage example:\n",
    "# fred_api = FredPyAPI()\n",
    "# fred_api.set_token(\"your_api_key_here\")\n",
    "# series_data = fred_api.get_series_data(\"GDP\")\n",
    "# historical_data = fred_api.get_historical_data(\"GDP\", observation_start=\"2020-01-01\", observation_end=\"2023-12-31\")\n",
    "# categories = fred_api.get_categories()\n",
    "# releases = fred_api.get_releases(realtime_start=\"2023-01-01\")"
   ],
   "id": "ec078bcd2aeb6128"
  }
 ],
 "metadata": {
  "kernelspec": {
   "display_name": "Python 3",
   "language": "python",
   "name": "python3"
  },
  "language_info": {
   "codemirror_mode": {
    "name": "ipython",
    "version": 2
   },
   "file_extension": ".py",
   "mimetype": "text/x-python",
   "name": "python",
   "nbconvert_exporter": "python",
   "pygments_lexer": "ipython2",
   "version": "2.7.6"
  }
 },
 "nbformat": 4,
 "nbformat_minor": 5
}
