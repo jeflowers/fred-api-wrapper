{
 "cells": [
  {
   "metadata": {},
   "cell_type": "markdown",
   "source": [
    "Import tools to help communicate with Fred API\n",
    "Requests helps us send messages over the internet\n",
    "Optional lets us say that sometimes a piece of information might not be there."
   ],
   "id": "c6b2874f1eea528"
  },
  {
   "metadata": {
    "ExecuteTime": {
     "end_time": "2024-08-31T07:40:38.668094Z",
     "start_time": "2024-08-31T07:40:38.517226Z"
    }
   },
   "cell_type": "code",
   "source": [
    "import requests\n",
    "from typing import Optional"
   ],
   "id": "c4fdca94cac81c37",
   "outputs": [],
   "execution_count": 27
  },
  {
   "metadata": {},
   "cell_type": "markdown",
   "source": "### Creates a blueprint for our FRED API tool.",
   "id": "3423dd00a83b8b94"
  },
  {
   "metadata": {
    "ExecuteTime": {
     "end_time": "2024-08-31T07:41:05.470589Z",
     "start_time": "2024-08-31T07:41:05.408714Z"
    }
   },
   "cell_type": "code",
   "source": [
    "class FredPyAPI:\n",
    "    # main web address our application will talk to\n",
    "    BASE_URL = \"https://api.stlouisfed.org/fred/\""
   ],
   "id": "ed473059dedcdb72",
   "outputs": [],
   "execution_count": 28
  },
  {
   "metadata": {},
   "cell_type": "markdown",
   "source": [
    "### This is how we create our robot (Initialize).  We can give it a token (a special password) \n",
    "### right away, or we can add it later."
   ],
   "id": "a452326e7dd8d146"
  },
  {
   "metadata": {},
   "cell_type": "code",
   "outputs": [],
   "execution_count": null,
   "source": [
    "def __init__(self, token: Optional[str] = None):\n",
    "        self.token = token"
   ],
   "id": "82fbd89561c39fb1"
  },
  {
   "metadata": {},
   "cell_type": "markdown",
   "source": "### This is a way to give our robot the special password after we've created it.",
   "id": "2a40b69d47d9d1d1"
  },
  {
   "metadata": {
    "ExecuteTime": {
     "end_time": "2024-08-31T07:43:18.922939Z",
     "start_time": "2024-08-31T07:43:18.842769Z"
    }
   },
   "cell_type": "code",
   "source": [
    "    def set_token(self, token: str) -> None:\n",
    "        self.token = token"
   ],
   "id": "9e12a227b9b9df3",
   "outputs": [],
   "execution_count": 29
  },
  {
   "metadata": {},
   "cell_type": "markdown",
   "source": [
    "### This is a private helper function (that's why it starts with _). It's like the robot's \n",
    "### internal communication system."
   ],
   "id": "fe0a7598c7808df5"
  },
  {
   "metadata": {
    "ExecuteTime": {
     "end_time": "2024-08-31T07:44:02.102407Z",
     "start_time": "2024-08-31T07:44:02.027024Z"
    }
   },
   "cell_type": "code",
   "source": [
    "    def _make_request(self, endpoint: str, params: dict) -> dict:\n",
    "        # This checks if the robot has its password (api_key). If not, it stops and tells us to set the password.\n",
    "        if not self.token:\n",
    "           raise ValueError(\"API token is not set. Use set_token() method to set it.\")\n",
    "           # These lines add the password and ask for the response in a specific format (JSON).\n",
    "           params['api_key'] = self.token\n",
    "           params['file_type'] = 'json'\n",
    "    "
   ],
   "id": "869399f21b8a8b07",
   "outputs": [],
   "execution_count": 30
  },
  {
   "metadata": {},
   "cell_type": "markdown",
   "source": "### This sends the request to FRED, checks for errors, and returns the data.",
   "id": "6d09858bf70d0f3f"
  },
  {
   "metadata": {},
   "cell_type": "code",
   "outputs": [],
   "execution_count": null,
   "source": [
    "         response = requests.get(f\"{self.BASE_URL}{endpoint}\", params=params)\n",
    "         response.raise_for_status()\n",
    "         return response.json()"
   ],
   "id": "79b41cdf30442276"
  },
  {
   "metadata": {},
   "cell_type": "markdown",
   "source": "### This function gets data about a specific economic series (like GDP).",
   "id": "b855525a9a75b939"
  },
  {
   "metadata": {},
   "cell_type": "code",
   "outputs": [],
   "execution_count": null,
   "source": [
    "    def get_series_data(self, series_id: str) -> dict:\n",
    "        return self._make_request(\"series\", {\"series_id\": series_id})"
   ],
   "id": "53e13a02620346ee"
  },
  {
   "metadata": {},
   "cell_type": "markdown",
   "source": "### This gets historical data for a series, with optional start and end dates.",
   "id": "8daaa258e1f35504"
  },
  {
   "metadata": {},
   "cell_type": "code",
   "outputs": [],
   "execution_count": null,
   "source": [
    "    def get_historical_data(self, series_id: str, observation_start: Optional[str] = None, observation_end: Optional[str] = None) -> dict:\n",
    "        params = {\"series_id\": series_id}\n",
    "        if observation_start:\n",
    "            params[\"observation_start\"] = observation_start\n",
    "        if observation_end:\n",
    "            params[\"observation_end\"] = observation_end\n",
    "        return self._make_request(\"series/observations\", params)"
   ],
   "id": "317cce9af14a5d23"
  },
  {
   "metadata": {},
   "cell_type": "markdown",
   "source": "### This gets information about categories of economic data.",
   "id": "e720a90f1341129e"
  },
  {
   "metadata": {},
   "cell_type": "code",
   "outputs": [],
   "execution_count": null,
   "source": [
    "    def get_categories(self, category_id: int = 0) -> dict:\n",
    "        return self._make_request(\"category\", {\"category_id\": category_id})"
   ],
   "id": "57eeba8d91a3d627"
  },
  {
   "metadata": {},
   "cell_type": "markdown",
   "source": "### This gets information about when new economic data is released.",
   "id": "f24331630c1ccbd7"
  },
  {
   "metadata": {},
   "cell_type": "code",
   "outputs": [],
   "execution_count": null,
   "source": [
    "    def get_releases(self, realtime_start: Optional[str] = None, realtime_end: Optional[str] = None) -> dict:\n",
    "        params = {}\n",
    "        if realtime_start:\n",
    "            params[\"realtime_start\"] = realtime_start\n",
    "        if realtime_end:\n",
    "            params[\"realtime_end\"] = realtime_end\n",
    "        return self._make_request(\"releases\", params)"
   ],
   "id": "63109b793c323044"
  },
  {
   "metadata": {},
   "cell_type": "markdown",
   "source": "### The comments at the end show examples of how to use this tool:",
   "id": "9d72a7ccf108dd31"
  },
  {
   "metadata": {},
   "cell_type": "code",
   "outputs": [],
   "execution_count": null,
   "source": [
    "# Usage example:\n",
    "# fred_api = FredPyAPI()\n",
    "# fred_api.set_token(\"your_api_key_here\")\n",
    "# series_data = fred_api.get_series_data(\"GDP\")\n",
    "# historical_data = fred_api.get_historical_data(\"GDP\", observation_start=\"2020-01-01\", observation_end=\"2023-12-31\")\n",
    "# categories = fred_api.get_categories()\n",
    "# releases = fred_api.get_releases(realtime_start=\"2023-01-01\")"
   ],
   "id": "ec078bcd2aeb6128"
  }
 ],
 "metadata": {
  "kernelspec": {
   "display_name": "Python 3",
   "language": "python",
   "name": "python3"
  },
  "language_info": {
   "codemirror_mode": {
    "name": "ipython",
    "version": 2
   },
   "file_extension": ".py",
   "mimetype": "text/x-python",
   "name": "python",
   "nbconvert_exporter": "python",
   "pygments_lexer": "ipython2",
   "version": "2.7.6"
  }
 },
 "nbformat": 4,
 "nbformat_minor": 5
}
